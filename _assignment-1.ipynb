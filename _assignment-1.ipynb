{
 "cells": [
  {
   "attachments": {},
   "cell_type": "markdown",
   "id": "ab6ed757-ea63-4cf6-92f1-841acf11ae9c",
   "metadata": {},
   "source": [
    "Q1. Create one variable containing following type of data\n",
    "\n",
    "1. String  my_string = \"Mohan\"\n",
    "\n",
    "2. list    my_list = [2, 4, 6]\n",
    "\n",
    "3. float   my_float = 25.22\n",
    "\n",
    "4. tuple   my_tuple = (2, 5, 8)\n"
   ]
  },
  {
   "attachments": {},
   "cell_type": "markdown",
   "id": "3326c183-1ffe-45c3-b66c-de87e9182b9b",
   "metadata": {},
   "source": [
    "Q2. Given are some following variables containing data:\n",
    "\n"
   ]
  },
  {
   "cell_type": "code",
   "execution_count": 2,
   "id": "587e7a36-795d-48d7-902d-1130372b1384",
   "metadata": {},
   "outputs": [
    {
     "name": "stdout",
     "output_type": "stream",
     "text": [
      "<class 'str'>\n"
     ]
    }
   ],
   "source": [
    "var1 = ''\n",
    "print( type(var1) )"
   ]
  },
  {
   "cell_type": "code",
   "execution_count": 3,
   "id": "76f883cd-637f-4e1a-94d1-f8094773d201",
   "metadata": {},
   "outputs": [
    {
     "name": "stdout",
     "output_type": "stream",
     "text": [
      "<class 'str'>\n"
     ]
    }
   ],
   "source": [
    "var2 = '[DS, ML, Python]'\n",
    "print( type(var2) )"
   ]
  },
  {
   "cell_type": "code",
   "execution_count": 4,
   "id": "741d3520-2441-446c-9937-cc28a94a34c4",
   "metadata": {},
   "outputs": [
    {
     "name": "stdout",
     "output_type": "stream",
     "text": [
      "<class 'list'>\n"
     ]
    }
   ],
   "source": [
    "var3 = ['DS', 'ML', 'Python' ]\n",
    "print( type(var3) )"
   ]
  },
  {
   "cell_type": "code",
   "execution_count": 5,
   "id": "9f744239-dcae-40b0-b211-42b758ff0ca9",
   "metadata": {},
   "outputs": [
    {
     "name": "stdout",
     "output_type": "stream",
     "text": [
      "<class 'int'>\n"
     ]
    }
   ],
   "source": [
    "var4 = 1\n",
    "print( type(var4) )"
   ]
  },
  {
   "attachments": {},
   "cell_type": "markdown",
   "id": "6f26099c-8f71-4bf9-88e3-806d1224b8ae",
   "metadata": {},
   "source": [
    "Q3.  Explain the use of the following operators using an example"
   ]
  },
  {
   "cell_type": "code",
   "execution_count": 6,
   "id": "1bdfd66e-8655-4064-85ef-cc5c51a79f5d",
   "metadata": {},
   "outputs": [
    {
     "data": {
      "text/plain": [
       "2.0"
      ]
     },
     "execution_count": 6,
     "metadata": {},
     "output_type": "execute_result"
    }
   ],
   "source": [
    "# 1. / Divison operator divides two number\n",
    "a = 10 / 5\n",
    "a"
   ]
  },
  {
   "cell_type": "code",
   "execution_count": 7,
   "id": "8cf49078-7760-4a2d-aae8-7899b269ec19",
   "metadata": {},
   "outputs": [
    {
     "data": {
      "text/plain": [
       "0"
      ]
     },
     "execution_count": 7,
     "metadata": {},
     "output_type": "execute_result"
    }
   ],
   "source": [
    "#2. % Modulo operator gives the remainder on dividing the two number \n",
    "b = 10 % 5\n",
    "b"
   ]
  },
  {
   "cell_type": "code",
   "execution_count": 8,
   "id": "d3844128-9c12-43db-9c52-3a6a7bc74ad9",
   "metadata": {},
   "outputs": [
    {
     "data": {
      "text/plain": [
       "3"
      ]
     },
     "execution_count": 8,
     "metadata": {},
     "output_type": "execute_result"
    }
   ],
   "source": [
    "#3. // It performs division between two numbers and returns the quotient rounded down to the nearest integer.\n",
    "c = 7 // 2\n",
    "c"
   ]
  },
  {
   "cell_type": "code",
   "execution_count": 9,
   "id": "ac76f6a0-dc8c-4022-8ecd-07e22734327f",
   "metadata": {},
   "outputs": [
    {
     "data": {
      "text/plain": [
       "49"
      ]
     },
     "execution_count": 9,
     "metadata": {},
     "output_type": "execute_result"
    }
   ],
   "source": [
    "#4 ** the ** operator is used for exponentiation\n",
    "sq = 7**2\n",
    "sq"
   ]
  },
  {
   "attachments": {},
   "cell_type": "markdown",
   "id": "33c32ba4-1a59-450c-a0a9-7630d5e6c44c",
   "metadata": {},
   "source": [
    "Q4. Create a list of length 10 of your choice containing multiple types of data. Using for loop print the \n",
    "element and its data type"
   ]
  },
  {
   "cell_type": "code",
   "execution_count": 10,
   "id": "6da57bf9-7904-4eb7-8629-cda09371c364",
   "metadata": {},
   "outputs": [
    {
     "name": "stdout",
     "output_type": "stream",
     "text": [
      "Data : 1 Data type:  <class 'int'>\n",
      "Data : 2 Data type:  <class 'int'>\n",
      "Data : 3 Data type:  <class 'int'>\n",
      "Data : 4 Data type:  <class 'int'>\n",
      "Data : Mohan Data type:  <class 'str'>\n",
      "Data : 52.23 Data type:  <class 'float'>\n",
      "Data : a Data type:  <class 'str'>\n",
      "Data : b Data type:  <class 'str'>\n",
      "Data : True Data type:  <class 'bool'>\n",
      "Data : 8 Data type:  <class 'int'>\n"
     ]
    }
   ],
   "source": [
    "li = [1, 2, 3, 4, \"Mohan\", 52.23, 'a', 'b', True, 8]\n",
    "\n",
    "for i in li:\n",
    "    print(\"Data :\", i ,\"Data type: \", type(i))\n",
    "    "
   ]
  },
  {
   "attachments": {},
   "cell_type": "markdown",
   "id": "c6fe408f-9266-44e2-ae33-b6ec7bd35ad7",
   "metadata": {},
   "source": [
    "Q5. Using a while loop, verify if the number A is purely divisible by number B and if so then how many \n",
    "times it can be divisible."
   ]
  },
  {
   "cell_type": "code",
   "execution_count": 13,
   "id": "6e1e1dec-da26-4667-9c1a-4cfd8ec1214e",
   "metadata": {},
   "outputs": [
    {
     "name": "stdout",
     "output_type": "stream",
     "text": [
      "The number A is divisible by number B that much times:  2\n"
     ]
    }
   ],
   "source": [
    "# Here i assume for value A and B \n",
    "\n",
    "a = 36 \n",
    "b = 6\n",
    "\n",
    "count = 0;\n",
    "\n",
    "if( a%b != 0):\n",
    "    print(\"The number A is not purely divisible by number B\");\n",
    "\n",
    "# Finding how many times it was A is divisble by number B\n",
    "\n",
    "while( a != 0 ):\n",
    "    \n",
    "    if( a % b == 0 ):\n",
    "        count +=1\n",
    "    else:\n",
    "        break\n",
    "        \n",
    "    a = a / b;\n",
    "\n",
    "print(\"The number A is divisible by number B that much times: \", count)\n",
    "\n"
   ]
  },
  {
   "attachments": {},
   "cell_type": "markdown",
   "id": "fc5fd635-6792-4a71-aa03-a41e14475be4",
   "metadata": {},
   "source": [
    "Q6. Create a list containing 25 int type data. Using for loop and if-else condition print if the element is \n",
    "divisible by 3 or not"
   ]
  },
  {
   "cell_type": "code",
   "execution_count": 15,
   "id": "608583ef-b6a2-4352-acdf-1a3787eba7f2",
   "metadata": {},
   "outputs": [
    {
     "name": "stdout",
     "output_type": "stream",
     "text": [
      "The number is not divisble by 3  1\n",
      "The number is not divisble by 3  2\n",
      "The number is divisble by 3  3\n",
      "The number is not divisble by 3  4\n",
      "The number is not divisble by 3  5\n",
      "The number is divisble by 3  6\n",
      "The number is not divisble by 3  7\n",
      "The number is not divisble by 3  8\n",
      "The number is divisble by 3  9\n",
      "The number is not divisble by 3  10\n",
      "The number is not divisble by 3  11\n",
      "The number is divisble by 3  12\n",
      "The number is not divisble by 3  13\n",
      "The number is not divisble by 3  14\n",
      "The number is divisble by 3  15\n",
      "The number is not divisble by 3  16\n",
      "The number is not divisble by 3  17\n",
      "The number is divisble by 3  18\n",
      "The number is not divisble by 3  19\n",
      "The number is not divisble by 3  20\n",
      "The number is divisble by 3  21\n",
      "The number is not divisble by 3  22\n",
      "The number is not divisble by 3  23\n",
      "The number is divisble by 3  24\n",
      "The number is not divisble by 3  25\n"
     ]
    }
   ],
   "source": [
    "integer_list = [1, 2, 3, 4, 5, 6, 7, 8, 9, 10, 11, 12, 13, 14, 15, 16, 17, 18, 19, 20, 21, 22, 23, 24, 25]\n",
    "\n",
    "for i in integer_list:\n",
    "    if( i % 3 == 0 ):\n",
    "        print(\"The number is divisble by 3 \", i)\n",
    "    else:\n",
    "        print(\"The number is not divisble by 3 \", i)\n",
    "        "
   ]
  },
  {
   "attachments": {},
   "cell_type": "markdown",
   "id": "d291c138-4a97-4098-8f9b-f9eca5d5340f",
   "metadata": {},
   "source": [
    "Q7. What do you understand about mutable and immutable data types? Give examples for both showing \n",
    "this property"
   ]
  },
  {
   "attachments": {},
   "cell_type": "markdown",
   "id": "f2fc2260-ebb7-4ac5-bd32-3a07ba2075a7",
   "metadata": {},
   "source": [
    "Immutable data types are those whose values cannot be modified after they are created. \n",
    "\n",
    "Mutable data types are those whose values can be modified after they are created."
   ]
  },
  {
   "cell_type": "code",
   "execution_count": 1,
   "id": "c7a78d45-f7f7-4c74-93e2-d8f9a36be495",
   "metadata": {},
   "outputs": [
    {
     "ename": "TypeError",
     "evalue": "'str' object does not support item assignment",
     "output_type": "error",
     "traceback": [
      "\u001b[1;31m---------------------------------------------------------------------------\u001b[0m",
      "\u001b[1;31mTypeError\u001b[0m                                 Traceback (most recent call last)",
      "Cell \u001b[1;32mIn[1], line 6\u001b[0m\n\u001b[0;32m      3\u001b[0m l \u001b[39m=\u001b[39m [\u001b[39m5\u001b[39m, \u001b[39m2\u001b[39m, \u001b[39m7\u001b[39m]\n\u001b[0;32m      5\u001b[0m l[\u001b[39m0\u001b[39m] \u001b[39m=\u001b[39m \u001b[39m48\u001b[39m \u001b[39m# here we modify data in list because list are mutable in nature\u001b[39;00m\n\u001b[1;32m----> 6\u001b[0m s[\u001b[39m0\u001b[39;49m] \u001b[39m=\u001b[39m \u001b[39m'\u001b[39m\u001b[39ma\u001b[39m\u001b[39m'\u001b[39m \u001b[39m# Gives me error they are immutable in nature \u001b[39;00m\n\u001b[0;32m      8\u001b[0m \u001b[39mprint\u001b[39m( l )\n\u001b[0;32m      9\u001b[0m \u001b[39mprint\u001b[39m( s )\n",
      "\u001b[1;31mTypeError\u001b[0m: 'str' object does not support item assignment"
     ]
    }
   ],
   "source": [
    "\n",
    "# Example \n",
    "s = \"Mohan\"\n",
    "l = [5, 2, 7]\n",
    "\n",
    "l[0] = 48 # here we modify data in list because list are mutable in nature\n",
    "s[0] = 'a' # Gives me error they are immutable in nature \n",
    "\n",
    "print( l )\n",
    "print( s )"
   ]
  }
 ],
 "metadata": {
  "kernelspec": {
   "display_name": "Python 3 (ipykernel)",
   "language": "python",
   "name": "python3"
  },
  "language_info": {
   "codemirror_mode": {
    "name": "ipython",
    "version": 3
   },
   "file_extension": ".py",
   "mimetype": "text/x-python",
   "name": "python",
   "nbconvert_exporter": "python",
   "pygments_lexer": "ipython3",
   "version": "3.10.7"
  }
 },
 "nbformat": 4,
 "nbformat_minor": 5
}
